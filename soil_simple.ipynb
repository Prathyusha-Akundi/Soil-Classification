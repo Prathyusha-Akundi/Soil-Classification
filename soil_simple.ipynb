{
  "nbformat": 4,
  "nbformat_minor": 0,
  "metadata": {
    "colab": {
      "name": "soil_simple.ipynb",
      "provenance": [],
      "collapsed_sections": [],
      "mount_file_id": "1CYLUkCAlgkrmlOkq-SObDi0uPbb1sie8",
      "authorship_tag": "ABX9TyMMgABKobf0QB/shu6DFijM",
      "include_colab_link": true
    },
    "kernelspec": {
      "name": "python3",
      "display_name": "Python 3"
    },
    "language_info": {
      "name": "python"
    },
    "accelerator": "GPU"
  },
  "cells": [
    {
      "cell_type": "markdown",
      "metadata": {
        "id": "view-in-github",
        "colab_type": "text"
      },
      "source": [
        "<a href=\"https://colab.research.google.com/github/Prathyusha-Akundi/Soil-Classification/blob/main/soil_simple.ipynb\" target=\"_parent\"><img src=\"https://colab.research.google.com/assets/colab-badge.svg\" alt=\"Open In Colab\"/></a>"
      ]
    },
    {
      "cell_type": "code",
      "execution_count": 1,
      "metadata": {
        "id": "n8lkwoPXvnPy"
      },
      "outputs": [],
      "source": [
        "import pandas as pd\n",
        "import os\n",
        "import cv2\n",
        "import matplotlib.pyplot as plt\n",
        "import numpy as np\n",
        "import random\n",
        "from sklearn.model_selection import train_test_split"
      ]
    },
    {
      "cell_type": "code",
      "source": [
        "\n",
        "from tensorflow.keras.models import Model, Sequential\n",
        "from tensorflow.keras.layers import *\n",
        "from tensorflow.keras.callbacks import EarlyStopping\n",
        "from tensorflow.keras.layers import SpatialDropout2D \n",
        "from tensorflow.keras import backend as K\n",
        "from tensorflow.keras.optimizers import Adam\n",
        "import tensorflow as tf\n",
        "\n",
        "from tensorflow.keras.preprocessing.image import ImageDataGenerator\n",
        "\n",
        "from warnings import filterwarnings\n",
        "from tensorflow import keras\n",
        "from tensorflow.keras.applications.densenet import DenseNet121\n",
        "from tensorflow.keras.applications.vgg16 import preprocess_input, VGG16\n",
        "from tensorflow.keras.preprocessing.image import ImageDataGenerator, load_img, img_to_array\n",
        "from tensorflow.keras import Model\n",
        "\n",
        "\n",
        "filterwarnings('ignore')\n",
        "np.random.seed(101)\n"
      ],
      "metadata": {
        "id": "lZ0Joojbza6L"
      },
      "execution_count": 2,
      "outputs": []
    },
    {
      "cell_type": "code",
      "source": [
        "root_dir = '/content/drive/MyDrive/Upwork/Soil Classification/'\n",
        "IMAGE_DIR = root_dir+'Datasets/preprocessed_irsid/'"
      ],
      "metadata": {
        "id": "dAvlqVmovwbO"
      },
      "execution_count": 3,
      "outputs": []
    },
    {
      "cell_type": "code",
      "source": [
        "preprocessed_df = pd.read_csv(root_dir+'Datasets/preprocessed_irsid.csv')\n",
        "preprocessed_df['PatchName'] = preprocessed_df.PatchName.apply(lambda x: x+'.png')"
      ],
      "metadata": {
        "id": "Nt9X4N53v48w"
      },
      "execution_count": 4,
      "outputs": []
    },
    {
      "cell_type": "code",
      "source": [
        "preprocessed_df.head()"
      ],
      "metadata": {
        "colab": {
          "base_uri": "https://localhost:8080/",
          "height": 206
        },
        "id": "sxCd9u63v-ug",
        "outputId": "24d47721-a12f-4b76-8675-15203ca82648"
      },
      "execution_count": 5,
      "outputs": [
        {
          "output_type": "execute_result",
          "data": {
            "text/html": [
              "\n",
              "  <div id=\"df-5dd78491-dffb-4f31-acdb-c582fafed964\">\n",
              "    <div class=\"colab-df-container\">\n",
              "      <div>\n",
              "<style scoped>\n",
              "    .dataframe tbody tr th:only-of-type {\n",
              "        vertical-align: middle;\n",
              "    }\n",
              "\n",
              "    .dataframe tbody tr th {\n",
              "        vertical-align: top;\n",
              "    }\n",
              "\n",
              "    .dataframe thead th {\n",
              "        text-align: right;\n",
              "    }\n",
              "</style>\n",
              "<table border=\"1\" class=\"dataframe\">\n",
              "  <thead>\n",
              "    <tr style=\"text-align: right;\">\n",
              "      <th></th>\n",
              "      <th>PatchName</th>\n",
              "      <th>filename</th>\n",
              "      <th>Type</th>\n",
              "    </tr>\n",
              "  </thead>\n",
              "  <tbody>\n",
              "    <tr>\n",
              "      <th>0</th>\n",
              "      <td>Sample4_patch_32.png</td>\n",
              "      <td>Sample4</td>\n",
              "      <td>Clay</td>\n",
              "    </tr>\n",
              "    <tr>\n",
              "      <th>1</th>\n",
              "      <td>Sample4_patch_33.png</td>\n",
              "      <td>Sample4</td>\n",
              "      <td>Clay</td>\n",
              "    </tr>\n",
              "    <tr>\n",
              "      <th>2</th>\n",
              "      <td>Sample4_patch_34.png</td>\n",
              "      <td>Sample4</td>\n",
              "      <td>Clay</td>\n",
              "    </tr>\n",
              "    <tr>\n",
              "      <th>3</th>\n",
              "      <td>Sample14_patch_48.png</td>\n",
              "      <td>Sample14</td>\n",
              "      <td>Sandy Loam</td>\n",
              "    </tr>\n",
              "    <tr>\n",
              "      <th>4</th>\n",
              "      <td>Sample12_patch_46.png</td>\n",
              "      <td>Sample12</td>\n",
              "      <td>Sand</td>\n",
              "    </tr>\n",
              "  </tbody>\n",
              "</table>\n",
              "</div>\n",
              "      <button class=\"colab-df-convert\" onclick=\"convertToInteractive('df-5dd78491-dffb-4f31-acdb-c582fafed964')\"\n",
              "              title=\"Convert this dataframe to an interactive table.\"\n",
              "              style=\"display:none;\">\n",
              "        \n",
              "  <svg xmlns=\"http://www.w3.org/2000/svg\" height=\"24px\"viewBox=\"0 0 24 24\"\n",
              "       width=\"24px\">\n",
              "    <path d=\"M0 0h24v24H0V0z\" fill=\"none\"/>\n",
              "    <path d=\"M18.56 5.44l.94 2.06.94-2.06 2.06-.94-2.06-.94-.94-2.06-.94 2.06-2.06.94zm-11 1L8.5 8.5l.94-2.06 2.06-.94-2.06-.94L8.5 2.5l-.94 2.06-2.06.94zm10 10l.94 2.06.94-2.06 2.06-.94-2.06-.94-.94-2.06-.94 2.06-2.06.94z\"/><path d=\"M17.41 7.96l-1.37-1.37c-.4-.4-.92-.59-1.43-.59-.52 0-1.04.2-1.43.59L10.3 9.45l-7.72 7.72c-.78.78-.78 2.05 0 2.83L4 21.41c.39.39.9.59 1.41.59.51 0 1.02-.2 1.41-.59l7.78-7.78 2.81-2.81c.8-.78.8-2.07 0-2.86zM5.41 20L4 18.59l7.72-7.72 1.47 1.35L5.41 20z\"/>\n",
              "  </svg>\n",
              "      </button>\n",
              "      \n",
              "  <style>\n",
              "    .colab-df-container {\n",
              "      display:flex;\n",
              "      flex-wrap:wrap;\n",
              "      gap: 12px;\n",
              "    }\n",
              "\n",
              "    .colab-df-convert {\n",
              "      background-color: #E8F0FE;\n",
              "      border: none;\n",
              "      border-radius: 50%;\n",
              "      cursor: pointer;\n",
              "      display: none;\n",
              "      fill: #1967D2;\n",
              "      height: 32px;\n",
              "      padding: 0 0 0 0;\n",
              "      width: 32px;\n",
              "    }\n",
              "\n",
              "    .colab-df-convert:hover {\n",
              "      background-color: #E2EBFA;\n",
              "      box-shadow: 0px 1px 2px rgba(60, 64, 67, 0.3), 0px 1px 3px 1px rgba(60, 64, 67, 0.15);\n",
              "      fill: #174EA6;\n",
              "    }\n",
              "\n",
              "    [theme=dark] .colab-df-convert {\n",
              "      background-color: #3B4455;\n",
              "      fill: #D2E3FC;\n",
              "    }\n",
              "\n",
              "    [theme=dark] .colab-df-convert:hover {\n",
              "      background-color: #434B5C;\n",
              "      box-shadow: 0px 1px 3px 1px rgba(0, 0, 0, 0.15);\n",
              "      filter: drop-shadow(0px 1px 2px rgba(0, 0, 0, 0.3));\n",
              "      fill: #FFFFFF;\n",
              "    }\n",
              "  </style>\n",
              "\n",
              "      <script>\n",
              "        const buttonEl =\n",
              "          document.querySelector('#df-5dd78491-dffb-4f31-acdb-c582fafed964 button.colab-df-convert');\n",
              "        buttonEl.style.display =\n",
              "          google.colab.kernel.accessAllowed ? 'block' : 'none';\n",
              "\n",
              "        async function convertToInteractive(key) {\n",
              "          const element = document.querySelector('#df-5dd78491-dffb-4f31-acdb-c582fafed964');\n",
              "          const dataTable =\n",
              "            await google.colab.kernel.invokeFunction('convertToInteractive',\n",
              "                                                     [key], {});\n",
              "          if (!dataTable) return;\n",
              "\n",
              "          const docLinkHtml = 'Like what you see? Visit the ' +\n",
              "            '<a target=\"_blank\" href=https://colab.research.google.com/notebooks/data_table.ipynb>data table notebook</a>'\n",
              "            + ' to learn more about interactive tables.';\n",
              "          element.innerHTML = '';\n",
              "          dataTable['output_type'] = 'display_data';\n",
              "          await google.colab.output.renderOutput(dataTable, element);\n",
              "          const docLink = document.createElement('div');\n",
              "          docLink.innerHTML = docLinkHtml;\n",
              "          element.appendChild(docLink);\n",
              "        }\n",
              "      </script>\n",
              "    </div>\n",
              "  </div>\n",
              "  "
            ],
            "text/plain": [
              "               PatchName  filename        Type\n",
              "0   Sample4_patch_32.png   Sample4        Clay\n",
              "1   Sample4_patch_33.png   Sample4        Clay\n",
              "2   Sample4_patch_34.png   Sample4        Clay\n",
              "3  Sample14_patch_48.png  Sample14  Sandy Loam\n",
              "4  Sample12_patch_46.png  Sample12        Sand"
            ]
          },
          "metadata": {},
          "execution_count": 5
        }
      ]
    },
    {
      "cell_type": "code",
      "source": [
        "train_val, test_df = train_test_split(preprocessed_df, test_size=0.1,random_state=10,stratify=preprocessed_df.Type.values)\n",
        "train_df, val_df = train_test_split(train_val, test_size=0.1,random_state=10,stratify=train_val.Type.values)"
      ],
      "metadata": {
        "id": "uB4_LgdJwCYa"
      },
      "execution_count": 6,
      "outputs": []
    },
    {
      "cell_type": "code",
      "source": [
        "def get_generator(df=train_df, image_dir=IMAGE_DIR, x_col='PatchName', y_cols='Type', shuffle=True, batch_size=4, seed=42, target_w = 256, target_h = 256):\n",
        "    \n",
        "    \n",
        "    print(\"getting  generator...\") \n",
        "    # normalize images\n",
        "    image_generator1 = ImageDataGenerator(\n",
        "        rescale=1./255,  \n",
        "        # featurewise_center = True,\n",
        "        # featurewise_std_normalization = True,\n",
        "        horizontal_flip = True,\n",
        "        vertical_flip = True,\n",
        "        # rotation_range = 15,\n",
        "\n",
        "        samplewise_center=True,\n",
        "        samplewise_std_normalization= True\n",
        "        )\n",
        "    \n",
        "    # flow from directory with specified batch size\n",
        "    # and target image size\n",
        "    generator1 = image_generator1.flow_from_dataframe(\n",
        "            dataframe=df,\n",
        "            directory=image_dir,\n",
        "            x_col=x_col,\n",
        "            y_col=y_cols,\n",
        "            class_mode=\"categorical\",\n",
        "            batch_size=batch_size,\n",
        "            shuffle=shuffle,\n",
        "            seed=seed,\n",
        "            target_size=(target_w,target_h))\n",
        "    \n",
        "    return generator1"
      ],
      "metadata": {
        "id": "GDOeVhyez1MO"
      },
      "execution_count": 7,
      "outputs": []
    },
    {
      "cell_type": "code",
      "source": [
        "batch_size = 16\n",
        "train_generator = get_generator(df = train_df, batch_size = batch_size)\n",
        "valid_generator = get_generator(df = val_df, batch_size = batch_size, shuffle=False)\n",
        "test_generator = get_generator(df = test_df, batch_size = batch_size, shuffle=False)"
      ],
      "metadata": {
        "colab": {
          "base_uri": "https://localhost:8080/"
        },
        "id": "VOud_CTR0Oyp",
        "outputId": "b0f73269-3a4d-433a-dc34-7faeef1cb4a6"
      },
      "execution_count": 27,
      "outputs": [
        {
          "output_type": "stream",
          "name": "stdout",
          "text": [
            "getting  generator...\n",
            "Found 502 validated image filenames belonging to 4 classes.\n",
            "getting  generator...\n",
            "Found 56 validated image filenames belonging to 4 classes.\n",
            "getting  generator...\n",
            "Found 62 validated image filenames belonging to 4 classes.\n"
          ]
        }
      ]
    },
    {
      "cell_type": "code",
      "source": [
        "class_labels = train_df['Type'].values\n",
        "class_labels.shape"
      ],
      "metadata": {
        "colab": {
          "base_uri": "https://localhost:8080/"
        },
        "id": "-AvYsYF70lup",
        "outputId": "8001c613-2a07-4026-bd6b-fb245d617ac6"
      },
      "execution_count": 9,
      "outputs": [
        {
          "output_type": "execute_result",
          "data": {
            "text/plain": [
              "(502,)"
            ]
          },
          "metadata": {},
          "execution_count": 9
        }
      ]
    },
    {
      "cell_type": "code",
      "source": [
        "x,y = next(train_generator)"
      ],
      "metadata": {
        "id": "IieDZH871J1O"
      },
      "execution_count": 10,
      "outputs": []
    },
    {
      "cell_type": "code",
      "source": [
        "i = 1\n",
        "plt.imshow(np.uint8(x[i]))\n"
      ],
      "metadata": {
        "colab": {
          "base_uri": "https://localhost:8080/",
          "height": 286
        },
        "id": "be7ZblYr1RP_",
        "outputId": "ae47de69-047b-40e9-dd66-34a722da116c"
      },
      "execution_count": 11,
      "outputs": [
        {
          "output_type": "execute_result",
          "data": {
            "text/plain": [
              "<matplotlib.image.AxesImage at 0x7fbf45f20290>"
            ]
          },
          "metadata": {},
          "execution_count": 11
        },
        {
          "output_type": "display_data",
          "data": {
            "image/png": "[encoded data removed]",
            "text/plain": [
              "<Figure size 432x288 with 1 Axes>"
            ]
          },
          "metadata": {
            "needs_background": "light"
          }
        }
      ]
    },
    {
      "cell_type": "code",
      "source": [
        "y[i]"
      ],
      "metadata": {
        "colab": {
          "base_uri": "https://localhost:8080/"
        },
        "id": "GIQGahYp1Tti",
        "outputId": "83881a7c-8acc-4edc-a0e0-d10d6bce79f2"
      },
      "execution_count": 12,
      "outputs": [
        {
          "output_type": "execute_result",
          "data": {
            "text/plain": [
              "array([0., 0., 1., 0.], dtype=float32)"
            ]
          },
          "metadata": {},
          "execution_count": 12
        }
      ]
    },
    {
      "cell_type": "code",
      "source": [
        "train_generator.class_indices"
      ],
      "metadata": {
        "colab": {
          "base_uri": "https://localhost:8080/"
        },
        "id": "GhmXYlii1Xd5",
        "outputId": "1ac12321-d24d-47f5-db38-502454d7b060"
      },
      "execution_count": 13,
      "outputs": [
        {
          "output_type": "execute_result",
          "data": {
            "text/plain": [
              "{'Clay': 0, 'Loam': 1, 'Sand': 2, 'Sandy Loam': 3}"
            ]
          },
          "metadata": {},
          "execution_count": 13
        }
      ]
    },
    {
      "cell_type": "code",
      "source": [
        "valid_generator.class_indices"
      ],
      "metadata": {
        "colab": {
          "base_uri": "https://localhost:8080/"
        },
        "id": "7cgA_9DMIZgz",
        "outputId": "1a2793a5-e69e-4ed1-ce3d-1a2a4048c14b"
      },
      "execution_count": 14,
      "outputs": [
        {
          "output_type": "execute_result",
          "data": {
            "text/plain": [
              "{'Clay': 0, 'Loam': 1, 'Sand': 2, 'Sandy Loam': 3}"
            ]
          },
          "metadata": {},
          "execution_count": 14
        }
      ]
    },
    {
      "cell_type": "code",
      "source": [
        "test_generator.class_indices"
      ],
      "metadata": {
        "colab": {
          "base_uri": "https://localhost:8080/"
        },
        "id": "6ig6VUH9Ibeu",
        "outputId": "9bd4b339-241f-4a0d-8ef3-22b61473de28"
      },
      "execution_count": 15,
      "outputs": [
        {
          "output_type": "execute_result",
          "data": {
            "text/plain": [
              "{'Clay': 0, 'Loam': 1, 'Sand': 2, 'Sandy Loam': 3}"
            ]
          },
          "metadata": {},
          "execution_count": 15
        }
      ]
    },
    {
      "cell_type": "code",
      "source": [
        "def get_classifier_model(labels,dim = 256):\n",
        "    ### Base Model ###\n",
        "    # Input\n",
        "    \n",
        "    input1 = Input(shape = (dim, dim, 3))\n",
        "    \n",
        "    # Base EfficientNet pretrained model\n",
        "    base = DenseNet121(\n",
        "        input_shape = (dim, dim, 3),\n",
        "        weights = \"imagenet\",\n",
        "        include_top = False,\n",
        "        # pooling = 'avg'\n",
        "    )\n",
        "    x = base(input1)    \n",
        "    # x = Conv2D(512, (3, 3), padding='same',name='densenet_features', activation = \"relu\")(x)\n",
        "    x = tf.keras.layers.GlobalAveragePooling2D()(x)\n",
        "    \n",
        "    # x = Dense(128, activation = \"relu\")(x1)\n",
        "   \n",
        "  \n",
        "    ### Rebuild top ###\n",
        "    x = Dense(labels, activation = \"sigmoid\")(x)\n",
        "\n",
        "\n",
        "    model = Model(inputs = input1, outputs = x)\n",
        "    opt = tf.keras.optimizers.Adam(learning_rate=0.0005)\n",
        "    model.compile(optimizer= opt, loss='categorical_crossentropy', metrics=['categorical_accuracy'])\n",
        "   \n",
        "    return model"
      ],
      "metadata": {
        "id": "wDaoS3og1fVf"
      },
      "execution_count": 16,
      "outputs": []
    },
    {
      "cell_type": "code",
      "source": [
        "model = get_classifier_model(len(train_generator.class_indices))"
      ],
      "metadata": {
        "id": "FX5QJyNp2Hln"
      },
      "execution_count": 17,
      "outputs": []
    },
    {
      "cell_type": "code",
      "source": [
        "model.summary()"
      ],
      "metadata": {
        "colab": {
          "base_uri": "https://localhost:8080/"
        },
        "id": "4VbVN2hd2NVb",
        "outputId": "9e44bc84-d7ee-4215-b039-624eb9fe2835"
      },
      "execution_count": 18,
      "outputs": [
        {
          "output_type": "stream",
          "name": "stdout",
          "text": [
            "Model: \"model\"\n",
            "_________________________________________________________________\n",
            " Layer (type)                Output Shape              Param #   \n",
            "=================================================================\n",
            " input_1 (InputLayer)        [(None, 256, 256, 3)]     0         \n",
            "                                                                 \n",
            " densenet121 (Functional)    (None, 8, 8, 1024)        7037504   \n",
            "                                                                 \n",
            " global_average_pooling2d (G  (None, 1024)             0         \n",
            " lobalAveragePooling2D)                                          \n",
            "                                                                 \n",
            " dense (Dense)               (None, 4)                 4100      \n",
            "                                                                 \n",
            "=================================================================\n",
            "Total params: 7,041,604\n",
            "Trainable params: 6,957,956\n",
            "Non-trainable params: 83,648\n",
            "_________________________________________________________________\n"
          ]
        }
      ]
    },
    {
      "cell_type": "code",
      "source": [
        "callback = tf.keras.callbacks.EarlyStopping(monitor='val_categorical_accuracy', patience=10, verbose=1, restore_best_weights=True)\n",
        "checkpoint_filepath = root_dir+'models/densenet121_v2'\n",
        "model_checkpoint_callback = tf.keras.callbacks.ModelCheckpoint(\n",
        "    filepath=checkpoint_filepath,\n",
        "    save_weights_only=True,\n",
        "    monitor='val_categorical_accuracy',\n",
        "    mode='max',\n",
        "    verbose = 1,\n",
        "    save_best_only=True)"
      ],
      "metadata": {
        "id": "6REN1RYZ2QJ4"
      },
      "execution_count": 19,
      "outputs": []
    },
    {
      "cell_type": "code",
      "source": [
        "STEP_SIZE_TRAIN=len(train_df)//batch_size\n",
        "STEP_SIZE_VALID= len(val_df)//batch_size\n",
        "STEP_SIZE_TEST=len(test_df)//batch_size\n",
        "history = model.fit(train_generator, steps_per_epoch=STEP_SIZE_TRAIN, validation_data=valid_generator,verbose=1, \n",
        "                        validation_steps=STEP_SIZE_VALID, epochs=25, callbacks=[callback, model_checkpoint_callback])"
      ],
      "metadata": {
        "colab": {
          "base_uri": "https://localhost:8080/"
        },
        "id": "MTva2EKV2kxv",
        "outputId": "ecba8910-5971-49dc-d12c-8d9f368b44f0"
      },
      "execution_count": 20,
      "outputs": [
        {
          "output_type": "stream",
          "name": "stdout",
          "text": [
            "Epoch 1/25\n",
            "31/31 [==============================] - ETA: 0s - loss: 0.4882 - categorical_accuracy: 0.8436\n",
            "Epoch 00001: val_categorical_accuracy improved from -inf to 0.64583, saving model to /content/drive/MyDrive/Upwork/Soil Classification/models/densenet121_v2\n",
            "31/31 [==============================] - 29s 307ms/step - loss: 0.4882 - categorical_accuracy: 0.8436 - val_loss: 2.0831 - val_categorical_accuracy: 0.6458\n",
            "Epoch 2/25\n",
            "31/31 [==============================] - ETA: 0s - loss: 0.3151 - categorical_accuracy: 0.9074\n",
            "Epoch 00002: val_categorical_accuracy improved from 0.64583 to 0.68750, saving model to /content/drive/MyDrive/Upwork/Soil Classification/models/densenet121_v2\n",
            "31/31 [==============================] - 7s 216ms/step - loss: 0.3151 - categorical_accuracy: 0.9074 - val_loss: 4.0280 - val_categorical_accuracy: 0.6875\n",
            "Epoch 3/25\n",
            "31/31 [==============================] - ETA: 0s - loss: 0.1338 - categorical_accuracy: 0.9465\n",
            "Epoch 00003: val_categorical_accuracy improved from 0.68750 to 0.85417, saving model to /content/drive/MyDrive/Upwork/Soil Classification/models/densenet121_v2\n",
            "31/31 [==============================] - 7s 222ms/step - loss: 0.1338 - categorical_accuracy: 0.9465 - val_loss: 1.8780 - val_categorical_accuracy: 0.8542\n",
            "Epoch 4/25\n",
            "31/31 [==============================] - ETA: 0s - loss: 0.3017 - categorical_accuracy: 0.9053\n",
            "Epoch 00004: val_categorical_accuracy did not improve from 0.85417\n",
            "31/31 [==============================] - 5s 170ms/step - loss: 0.3017 - categorical_accuracy: 0.9053 - val_loss: 3.8544 - val_categorical_accuracy: 0.6875\n",
            "Epoch 5/25\n",
            "31/31 [==============================] - ETA: 0s - loss: 0.1706 - categorical_accuracy: 0.9486\n",
            "Epoch 00005: val_categorical_accuracy did not improve from 0.85417\n",
            "31/31 [==============================] - 6s 180ms/step - loss: 0.1706 - categorical_accuracy: 0.9486 - val_loss: 0.3980 - val_categorical_accuracy: 0.8125\n",
            "Epoch 6/25\n",
            "31/31 [==============================] - ETA: 0s - loss: 0.1819 - categorical_accuracy: 0.9486\n",
            "Epoch 00006: val_categorical_accuracy did not improve from 0.85417\n",
            "31/31 [==============================] - 5s 169ms/step - loss: 0.1819 - categorical_accuracy: 0.9486 - val_loss: 4.1129 - val_categorical_accuracy: 0.7708\n",
            "Epoch 7/25\n",
            "31/31 [==============================] - ETA: 0s - loss: 0.1353 - categorical_accuracy: 0.9650\n",
            "Epoch 00007: val_categorical_accuracy did not improve from 0.85417\n",
            "31/31 [==============================] - 5s 170ms/step - loss: 0.1353 - categorical_accuracy: 0.9650 - val_loss: 3.9580 - val_categorical_accuracy: 0.5208\n",
            "Epoch 8/25\n",
            "31/31 [==============================] - ETA: 0s - loss: 0.1131 - categorical_accuracy: 0.9671\n",
            "Epoch 00008: val_categorical_accuracy improved from 0.85417 to 0.87500, saving model to /content/drive/MyDrive/Upwork/Soil Classification/models/densenet121_v2\n",
            "31/31 [==============================] - 9s 288ms/step - loss: 0.1131 - categorical_accuracy: 0.9671 - val_loss: 0.4423 - val_categorical_accuracy: 0.8750\n",
            "Epoch 9/25\n",
            "31/31 [==============================] - ETA: 0s - loss: 0.0957 - categorical_accuracy: 0.9712\n",
            "Epoch 00009: val_categorical_accuracy did not improve from 0.87500\n",
            "31/31 [==============================] - 5s 168ms/step - loss: 0.0957 - categorical_accuracy: 0.9712 - val_loss: 0.3771 - val_categorical_accuracy: 0.8750\n",
            "Epoch 10/25\n",
            "31/31 [==============================] - ETA: 0s - loss: 0.1352 - categorical_accuracy: 0.9630\n",
            "Epoch 00010: val_categorical_accuracy did not improve from 0.87500\n",
            "31/31 [==============================] - 6s 180ms/step - loss: 0.1352 - categorical_accuracy: 0.9630 - val_loss: 1.0965 - val_categorical_accuracy: 0.8750\n",
            "Epoch 11/25\n",
            "31/31 [==============================] - ETA: 0s - loss: 0.1014 - categorical_accuracy: 0.9630\n",
            "Epoch 00011: val_categorical_accuracy did not improve from 0.87500\n",
            "31/31 [==============================] - 5s 169ms/step - loss: 0.1014 - categorical_accuracy: 0.9630 - val_loss: 0.5834 - val_categorical_accuracy: 0.8333\n",
            "Epoch 12/25\n",
            "31/31 [==============================] - ETA: 0s - loss: 0.1385 - categorical_accuracy: 0.9486\n",
            "Epoch 00012: val_categorical_accuracy improved from 0.87500 to 0.91667, saving model to /content/drive/MyDrive/Upwork/Soil Classification/models/densenet121_v2\n",
            "31/31 [==============================] - 6s 206ms/step - loss: 0.1385 - categorical_accuracy: 0.9486 - val_loss: 0.2357 - val_categorical_accuracy: 0.9167\n",
            "Epoch 13/25\n",
            "31/31 [==============================] - ETA: 0s - loss: 0.0911 - categorical_accuracy: 0.9794\n",
            "Epoch 00013: val_categorical_accuracy improved from 0.91667 to 0.97917, saving model to /content/drive/MyDrive/Upwork/Soil Classification/models/densenet121_v2\n",
            "31/31 [==============================] - 6s 207ms/step - loss: 0.0911 - categorical_accuracy: 0.9794 - val_loss: 0.0699 - val_categorical_accuracy: 0.9792\n",
            "Epoch 14/25\n",
            "31/31 [==============================] - ETA: 0s - loss: 0.0391 - categorical_accuracy: 0.9899\n",
            "Epoch 00014: val_categorical_accuracy improved from 0.97917 to 1.00000, saving model to /content/drive/MyDrive/Upwork/Soil Classification/models/densenet121_v2\n",
            "31/31 [==============================] - 7s 216ms/step - loss: 0.0391 - categorical_accuracy: 0.9899 - val_loss: 0.0355 - val_categorical_accuracy: 1.0000\n",
            "Epoch 15/25\n",
            "31/31 [==============================] - ETA: 0s - loss: 0.0128 - categorical_accuracy: 0.9938\n",
            "Epoch 00015: val_categorical_accuracy did not improve from 1.00000\n",
            "31/31 [==============================] - 6s 181ms/step - loss: 0.0128 - categorical_accuracy: 0.9938 - val_loss: 0.0031 - val_categorical_accuracy: 1.0000\n",
            "Epoch 16/25\n",
            "31/31 [==============================] - ETA: 0s - loss: 0.0148 - categorical_accuracy: 0.9959\n",
            "Epoch 00016: val_categorical_accuracy did not improve from 1.00000\n",
            "31/31 [==============================] - 5s 169ms/step - loss: 0.0148 - categorical_accuracy: 0.9959 - val_loss: 0.0398 - val_categorical_accuracy: 0.9792\n",
            "Epoch 17/25\n",
            "31/31 [==============================] - ETA: 0s - loss: 0.0123 - categorical_accuracy: 0.9979\n",
            "Epoch 00017: val_categorical_accuracy did not improve from 1.00000\n",
            "31/31 [==============================] - 5s 169ms/step - loss: 0.0123 - categorical_accuracy: 0.9979 - val_loss: 0.0101 - val_categorical_accuracy: 1.0000\n",
            "Epoch 18/25\n",
            "31/31 [==============================] - ETA: 0s - loss: 0.0149 - categorical_accuracy: 0.9959\n",
            "Epoch 00018: val_categorical_accuracy did not improve from 1.00000\n",
            "31/31 [==============================] - 5s 169ms/step - loss: 0.0149 - categorical_accuracy: 0.9959 - val_loss: 0.1039 - val_categorical_accuracy: 0.9583\n",
            "Epoch 19/25\n",
            "31/31 [==============================] - ETA: 0s - loss: 0.0630 - categorical_accuracy: 0.9856\n",
            "Epoch 00019: val_categorical_accuracy did not improve from 1.00000\n",
            "31/31 [==============================] - 5s 169ms/step - loss: 0.0630 - categorical_accuracy: 0.9856 - val_loss: 0.1950 - val_categorical_accuracy: 0.9167\n",
            "Epoch 20/25\n",
            "31/31 [==============================] - ETA: 0s - loss: 0.0611 - categorical_accuracy: 0.9835\n",
            "Epoch 00020: val_categorical_accuracy did not improve from 1.00000\n",
            "31/31 [==============================] - 5s 167ms/step - loss: 0.0611 - categorical_accuracy: 0.9835 - val_loss: 0.6381 - val_categorical_accuracy: 0.8958\n",
            "Epoch 21/25\n",
            "31/31 [==============================] - ETA: 0s - loss: 0.0420 - categorical_accuracy: 0.9877\n",
            "Epoch 00021: val_categorical_accuracy did not improve from 1.00000\n",
            "31/31 [==============================] - 5s 169ms/step - loss: 0.0420 - categorical_accuracy: 0.9877 - val_loss: 0.1982 - val_categorical_accuracy: 0.9583\n",
            "Epoch 22/25\n",
            "31/31 [==============================] - ETA: 0s - loss: 0.1219 - categorical_accuracy: 0.9650\n",
            "Epoch 00022: val_categorical_accuracy did not improve from 1.00000\n",
            "31/31 [==============================] - 5s 171ms/step - loss: 0.1219 - categorical_accuracy: 0.9650 - val_loss: 0.1676 - val_categorical_accuracy: 0.9375\n",
            "Epoch 23/25\n",
            "31/31 [==============================] - ETA: 0s - loss: 0.0755 - categorical_accuracy: 0.9774\n",
            "Epoch 00023: val_categorical_accuracy did not improve from 1.00000\n",
            "31/31 [==============================] - 5s 170ms/step - loss: 0.0755 - categorical_accuracy: 0.9774 - val_loss: 0.2530 - val_categorical_accuracy: 0.8958\n",
            "Epoch 24/25\n",
            "31/31 [==============================] - ETA: 0s - loss: 0.1132 - categorical_accuracy: 0.9671Restoring model weights from the end of the best epoch: 14.\n",
            "\n",
            "Epoch 00024: val_categorical_accuracy did not improve from 1.00000\n",
            "31/31 [==============================] - 6s 178ms/step - loss: 0.1132 - categorical_accuracy: 0.9671 - val_loss: 2.2138 - val_categorical_accuracy: 0.6458\n",
            "Epoch 00024: early stopping\n"
          ]
        }
      ]
    },
    {
      "cell_type": "code",
      "source": [
        "model.load_weights(checkpoint_filepath)"
      ],
      "metadata": {
        "colab": {
          "base_uri": "https://localhost:8080/"
        },
        "id": "WRWO6nk6C9Vt",
        "outputId": "57f2a4c8-69a0-45cb-b728-5b191c407f4e"
      },
      "execution_count": 21,
      "outputs": [
        {
          "output_type": "execute_result",
          "data": {
            "text/plain": [
              "<tensorflow.python.training.tracking.util.CheckpointLoadStatus at 0x7fbf47c7f910>"
            ]
          },
          "metadata": {},
          "execution_count": 21
        }
      ]
    },
    {
      "cell_type": "code",
      "source": [
        "loss, val_acc = model.evaluate(valid_generator)\n",
        "print(val_acc)"
      ],
      "metadata": {
        "colab": {
          "base_uri": "https://localhost:8080/"
        },
        "id": "m_TKlW2wC90U",
        "outputId": "d5360d88-28b4-4615-d23c-de6edbffcdb2"
      },
      "execution_count": 22,
      "outputs": [
        {
          "output_type": "stream",
          "name": "stdout",
          "text": [
            "4/4 [==============================] - 1s 222ms/step - loss: 0.0381 - categorical_accuracy: 0.9821\n",
            "0.9821428656578064\n"
          ]
        }
      ]
    },
    {
      "cell_type": "code",
      "source": [
        "test_loss, test_acc = model.evaluate(test_generator)\n",
        "print(test_acc)"
      ],
      "metadata": {
        "colab": {
          "base_uri": "https://localhost:8080/"
        },
        "id": "CTXUdkxbDAgR",
        "outputId": "e00c6854-8f79-46db-c710-2ed4755d2fce"
      },
      "execution_count": 28,
      "outputs": [
        {
          "output_type": "stream",
          "name": "stdout",
          "text": [
            "4/4 [==============================] - 1s 162ms/step - loss: 0.2117 - categorical_accuracy: 0.9516\n",
            "0.9516128897666931\n"
          ]
        }
      ]
    },
    {
      "cell_type": "code",
      "source": [
        ""
      ],
      "metadata": {
        "id": "MSb6dClaMY5j"
      },
      "execution_count": null,
      "outputs": []
    }
  ]
}